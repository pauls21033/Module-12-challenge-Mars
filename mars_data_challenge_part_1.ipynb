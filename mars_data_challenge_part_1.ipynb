{
 "cells": [
  {
   "cell_type": "code",
   "execution_count": null,
   "id": "98fba9bf",
   "metadata": {},
   "outputs": [],
   "source": [
    "from splinter import Browser\n",
    "from bs4 import BeautifulSoup as bs\n",
    "import time\n",
    "from webdriver_manager.chrome import ChromeDriverManager"
   ]
  },
  {
   "cell_type": "code",
   "execution_count": null,
   "id": "75c84ea8",
   "metadata": {},
   "outputs": [],
   "source": [
    "executable_path = {'executable_path': ChromeDriverManager().install()}\n",
    "browser = Browser('chrome', **executable_path, headless=False)"
   ]
  },
  {
   "cell_type": "code",
   "execution_count": null,
   "id": "f497e8d6",
   "metadata": {},
   "outputs": [],
   "source": [
    "url = 'https://redplanetscience.com/'\n",
    "browser.visit(url)\n",
    "time.sleep(1)\n"
   ]
  },
  {
   "cell_type": "code",
   "execution_count": null,
   "id": "b3ad1b1e",
   "metadata": {},
   "outputs": [],
   "source": [
    "# Return all the HTML on our page\n",
    "html = browser.html\n",
    "\n",
    "# Create Beautiful Soup object, pass in our html and parse with'html.parser'\n",
    "soup = bs(html, \"html.parser\")"
   ]
  },
  {
   "cell_type": "code",
   "execution_count": null,
   "id": "20ef841b",
   "metadata": {},
   "outputs": [],
   "source": [
    "print(soup.prettify)"
   ]
  },
  {
   "cell_type": "code",
   "execution_count": null,
   "id": "afff9427",
   "metadata": {},
   "outputs": [],
   "source": [
    "# Scrape the Mars News Site, collect the latest News Title and Paragraph Text and save it in a variable\n",
    "title = soup.find_all('div', class_='content_title')[0].text\n",
    "paragraph = soup.find_all('div', class_='article_teaser_body')[0].text\n",
    "\n",
    "# Print the latest New Title and Paragraph\n",
    "print(f'Latest News Title: {title}')\n",
    "print('\\n-----------------\\n')\n",
    "print(f'Latest News Paragraph: {paragraph}')"
   ]
  },
  {
   "cell_type": "code",
   "execution_count": null,
   "id": "22dc2c54",
   "metadata": {},
   "outputs": [],
   "source": [
    "slide_element = soup.select_one(\"list_text content_title\")\n",
    "soup.find_all('div', class_='content_title')"
   ]
  },
  {
   "cell_type": "code",
   "execution_count": null,
   "id": "fbe2daf9",
   "metadata": {},
   "outputs": [],
   "source": [
    "# Scrape the Latest News Titles\n",
    "# Use Parent Element to Find First <a> Tag and Save it as news_title\n",
    "news=soup.find_all('div', class_='content_title')\n",
    "# A blank list to hold the headlines\n",
    "headlines = []\n",
    "# Loop over td elements\n",
    "for title in news:\n",
    "\n",
    "            # Append the td to the list\n",
    "            headlines.append(title)"
   ]
  },
  {
   "cell_type": "code",
   "execution_count": null,
   "id": "b15c785e",
   "metadata": {},
   "outputs": [],
   "source": [
    "for x in range(10):\n",
    "    print(headlines[x].text)  "
   ]
  },
  {
   "cell_type": "code",
   "execution_count": null,
   "id": "a61baf34",
   "metadata": {},
   "outputs": [],
   "source": [
    "# Scrape the Latest Paragraph Text\n",
    "news_paragraph = soup.find(\"div\", class_=\"article_teaser_body\").get_text()\n",
    "print(news_paragraph)"
   ]
  },
  {
   "cell_type": "code",
   "execution_count": null,
   "id": "52812895",
   "metadata": {},
   "outputs": [],
   "source": [
    "executable_path = {'executable_path': '/usr/local/bin/chromedriver'}\n",
    "browser = Browser('chrome', **executable_path, headless=False)"
   ]
  },
  {
   "cell_type": "code",
   "execution_count": null,
   "id": "d0333e02",
   "metadata": {},
   "outputs": [],
   "source": [
    "url = 'https://redplanetscience.com/'\n",
    "browser.visit(url)\n",
    "html = browser.html\n",
    "\n",
    "soup = BeautifulSoup(html, 'html.parser')"
   ]
  },
  {
   "cell_type": "code",
   "execution_count": null,
   "id": "dcf2e02b",
   "metadata": {},
   "outputs": [],
   "source": [
    "html = browser.html   \n",
    "soup = BeautifulSoup(html, 'html.parser')\n",
    "\n",
    "results = soup.find_all('div', class_='item')\n",
    "# results = soup.find('div', attrs={'class':'description'}).text\n",
    "\n",
    "print(results)"
   ]
  },
  {
   "cell_type": "code",
   "execution_count": null,
   "id": "8fb9bacf",
   "metadata": {},
   "outputs": [],
   "source": [
    "html = browser.html   \n",
    "soup = BeautifulSoup(html,'html.parser')"
   ]
  },
  {
   "cell_type": "code",
   "execution_count": null,
   "id": "ef150bdb",
   "metadata": {},
   "outputs": [],
   "source": [
    "# Create a dictionary to later append to\n",
    "mars_dictionary = []\n",
    "\n",
    "# Iterate through each page\n",
    "for result in results:\n",
    "#     Get the title\n",
    "    title = result.h3.text\n",
    "    title = title.replace (\"title\",\"preview\")\n",
    "    \n",
    "#     Find the link & create the link\n",
    "    href = result.find('a')['href']\n",
    "    base_url = 'https://redplanetscience.com/'\n",
    "    image_link = base_url + href\n",
    "    \n",
    "#     Click on each link\n",
    "    browser.visit(image_link)\n",
    "    html = browser.html\n",
    "    soup = BeautifulSoup(html, 'html.parser')\n",
    "    \n",
    "#     Get the image_url\n",
    "    downloads = soup.find('div', class_ = \"downloads\")\n",
    "    image_url = downloads.find('a')['href']\n",
    "    \n",
    "#     Append to dictionary\n",
    "    mars_dictionary.append({\"title\": \"preview\"})\n",
    "    \n",
    "print(mars_dictionary)\n",
    "    "
   ]
  },
  {
   "cell_type": "code",
   "execution_count": null,
   "id": "b7e1a593",
   "metadata": {},
   "outputs": [],
   "source": []
  }
 ],
 "metadata": {
  "kernelspec": {
   "display_name": "Python 3 (ipykernel)",
   "language": "python",
   "name": "python3"
  },
  "language_info": {
   "codemirror_mode": {
    "name": "ipython",
    "version": 3
   },
   "file_extension": ".py",
   "mimetype": "text/x-python",
   "name": "python",
   "nbconvert_exporter": "python",
   "pygments_lexer": "ipython3",
   "version": "3.9.12"
  }
 },
 "nbformat": 4,
 "nbformat_minor": 5
}
